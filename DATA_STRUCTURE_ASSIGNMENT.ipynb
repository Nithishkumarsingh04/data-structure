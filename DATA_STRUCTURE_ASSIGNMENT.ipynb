{
  "nbformat": 4,
  "nbformat_minor": 0,
  "metadata": {
    "colab": {
      "private_outputs": true,
      "provenance": []
    },
    "kernelspec": {
      "name": "python3",
      "display_name": "Python 3"
    },
    "language_info": {
      "name": "python"
    }
  },
  "cells": [
    {
      "cell_type": "markdown",
      "source": [
        "                                   DATA STRUCTURE\n",
        "\n",
        "1. What are data structures, and why are they important?\n",
        "\n",
        "Data structures are ways of organizing and storing data in a computer so it can be accessed and modified efficiently. They are important because they help optimize algorithms, improve performance, and manage data effectively in software development.\n",
        "\n",
        "2. Explain the difference between mutable and immutable data types with examplesP\n",
        "\n",
        "Mutable data types can be changed after creation, while immutable data types cannot.\n",
        "Examples:\n",
        "Mutable: list, dict, set\n",
        "Immutable: int, float, str, tuple\n",
        "\n",
        "3. What are the main differences between lists and tuples in Python?\n",
        "Key Differences Between Lists and Tuples\n",
        "Feature\n",
        "List\n",
        "Tuple\n",
        "Mutability\n",
        "Mutable (can be changed)\n",
        "Immutable (cannot be changed)\n",
        "Syntax\n",
        "Square brackets [ ]\n",
        "Parentheses ( )\n",
        "Methods\n",
        "Many built-in methods (e.g., append(), remove())\n",
        "Fewer built-in methods\n",
        "Performance\n",
        "Slightly slower due to mutability\n",
        "Slightly faster and more memory-efficient\n",
        "Use Cases\n",
        "Suitable for dynamic data\n",
        "Suitable for fixed data\n",
        "\n",
        "4. Describe how dictionaries store data?\n",
        "​In Python, dictionaries are implemented using hash tables, a data structure that enables efficient storage and retrieval of key-value pairs.​\n",
        "Hashing the Key: When a key-value pair is added to a dictionary, Python computes the hash of the key using a hash function.\n",
        "Handling Collisions: If multiple keys hash to the same index (a collision), Python employs strategies like open addressing to find an alternative slot for the new key-value pair. ​\n",
        "Dynamic Resizing: As more items are added and the dictionary becomes full, Python automatically resizes the underlying array (typically doubling its size) to maintain efficient operations. ​\n",
        "\n",
        "5. Why might you use a set instead of a list in Python?\n",
        "​Using a set instead of a list in Python is advantageous when:​\n",
        "You Need Unique Elements\n",
        "Sets automatically eliminate duplicates, ensuring all elements are unique.\n",
        "Faster Membership Testing\n",
        "Checking if an item exists in a set is generally faster (average-case O(1)) compared to a list (O(n)), making sets more efficient for large datasets.\n",
        "Performing Set Operations\n",
        "Sets support mathematical operations like union, intersection, and difference, which are more straightforward and efficient than equivalent list operations\n",
        "\n",
        "6. What is a string in Python, and how is it different from a list?\n",
        "Strings are ideal for handling and manipulating textual data. They are immutable, meaning their content cannot be changed after creation.​\n",
        "\n",
        "\n",
        "\n",
        "Feature\n",
        "String\n",
        "List\n",
        "Definition\n",
        "Sequence of characters\n",
        "Sequence of elements (can be of any type)\n",
        "Mutability\n",
        "Immutable (cannot be changed after creation)\n",
        "Mutable (can be modified)\n",
        "Syntax\n",
        "Enclosed in quotes ('hello' or \"hello\")\n",
        "Enclosed in square brackets ([1, 2, 3])\n",
        "Element Types\n",
        "Only characters\n",
        "Any data type (integers, strings, objects)\n",
        "\n",
        "7. How do tuples ensure data integrity in Python?\n",
        "​In Python, tuples ensure data integrity through their immutability—once created, their contents cannot be altered. This characteristic prevents unintended modifications, making tuples reliable for storing fixed data collections. For instance, using a tuple to represent coordinates ensures that the values remain constant throughout the program, reducing the risk of accidental changes\n",
        "\n",
        "8. What is a hash table, and how does it relate to dictionaries in Python?\n",
        "A hash table is a data structure that stores key-value pairs and allows fast access to the values based on the hash of the key. It works by applying a hash function to the key to compute an index in an array, and that index is where the value is stored. This makes it very efficient for searching, inserting, and deleting elements.\n",
        "In Python, dictionaries are implemented using hash tables. When you store a key-value pair in a dictionary, the key is hashed, and the corresponding value is placed at the computed index. This allows for average-case constant time complexity (O(1)) for operations like lookup, insertion, and deletion.\n",
        "\n",
        "9. Can lists contain different data types in Python3?\n",
        "\n",
        "Yes, lists in Python can contain elements of different data types. For example, a list can contain integers, strings, floats, or even other lists and dictionaries. Here's an example:\n",
        "python\n",
        "CopyEdit\n",
        "my_list = [42, \"Hello\", 3.14, [1, 2, 3], {'a': 1}]\n",
        "10. Explain why strings are immutable in Python.\n",
        "\n",
        "Strings are immutable in Python because once a string is created, its value cannot be changed. This behavior is designed to improve performance, security, and memory efficiency. Since strings are immutable, Python can optimize their usage by storing them in a single memory location, avoiding unnecessary copies. If you try to modify a string, a new string is created instead. This also makes strings hashable, so they can be used as keys in dictionaries.\n",
        "\n",
        "11. What advantages do dictionaries offer over lists for certain tasks?\n",
        "Dictionaries offer several advantages over lists:\n",
        "Fast lookups: Dictionaries allow you to retrieve values using keys in constant time (O(1)), while lists require linear time (O(n)) to find an element.\n",
        "\n",
        "\n",
        "Key-based access: You can access values using descriptive keys (e.g., \"name\", \"age\"), making the data more readable and easier to work with.\n",
        "\n",
        "\n",
        "Uniqueness of keys: Each key in a dictionary is unique, ensuring that you don't have duplicate keys, unlike lists where elements can be repeated.\n",
        "\n",
        "12. Describe a scenario where using a tuple would be preferable over a list.\n",
        "Tuples are preferable over lists in cases where you need immutable data that shouldn't change. For instance, if you're representing a fixed coordinate (latitude, longitude), a tuple is a better choice:\n",
        "python\n",
        "CopyEdit\n",
        "coordinates = (40.7128, -74.0060)  # Tuple for a coordinate (immutable)\n",
        "\n",
        "13. How do sets handle duplicate values in Python3?\n",
        "A set is an unordered collection of unique elements. It automatically removes any duplicates when you try to add an element. For example:\n",
        "python\n",
        "CopyEdit\n",
        "my_set = {1, 2, 2, 3}\n",
        "print(my_set)  # Output: {1, 2, 3}\n",
        "\n",
        "14. How does the “in” keyword work differently for lists and dictionaries?\n",
        "     For lists: The in keyword checks whether a specific value exists in the list. It performs a linear search, so its time complexity is O(n).\n",
        "   For dictionaries: The in keyword checks whether a key exists in the dictionary. Since dictionaries are implemented using hash tables, this check is done in constant time, O(1).\n",
        "\n",
        "15. Can you modify the elements of a tuple? Explain why or why not.\n",
        "No, you cannot modify the elements of a tuple because tuples are immutable. This means that once a tuple is created, its contents cannot be changed. The immutability of tuples ensures that their data is protected from accidental modifications and allows for performance optimizations.\n",
        "\n",
        "16. What is a nested dictionary, and give an example of its use case.\n",
        "A nested dictionary is a dictionary where the values themselves are dictionaries. This allows you to represent complex, hierarchical data structures.\n",
        "Example:\n",
        "python\n",
        "CopyEdit\n",
        "student_grades = {\n",
        "    \"Alice\": {\"Math\": 85, \"Science\": 90},\n",
        "    \"Bob\": {\"Math\": 88, \"Science\": 80}\n",
        "}\n",
        "\n",
        "17. Describe the time complexity of accessing elements in a dictionary.\n",
        "The average time complexity of accessing elements in a dictionary by key is O(1), or constant time. This is because dictionaries are implemented using hash tables, and when you access an element using a key, the key is hashed to compute the index where the value is stored.\n",
        "\n",
        "18. In what situations are lists preferred over dictionaries?\n",
        "Lists are preferred when you need an ordered collection of items, or when you need to store data in a sequence that can have duplicates. Lists are also ideal for cases where the order of elements matters (e.g., maintaining a queue or a stack).\n",
        "\n",
        "19. Why are dictionaries considered unordered, and how does that affect data retrieval?\n",
        "Dictionaries are considered unordered because, prior to Python 3.7, the key-value pairs do not have a guaranteed order. In Python 3.7 and beyond, dictionaries maintain insertion order, but this is not the primary design feature. The unordered nature affects data retrieval because you access values using keys, and you don’t rely on the order in which items are stored.\n",
        "\n",
        "20. Explain the difference between a list and a dictionary in terms of data retrieval.\n",
        "Lists: You retrieve data using an index (e.g., my_list[0]), which requires sequential access, making it O(n) for searching.\n",
        "\n",
        "\n",
        "Dictionaries: You retrieve data using a key (e.g., my_dict['key']), which is usually faster (O(1) on average) due to hashing.\n",
        "\n",
        "\n",
        "\n",
        "                    "
      ],
      "metadata": {
        "id": "MQOjKAvzIOJs"
      }
    },
    {
      "cell_type": "code",
      "execution_count": null,
      "metadata": {
        "id": "iY0xghEZs-5Y"
      },
      "outputs": [],
      "source": [
        "                                                                       # PRACTICAL QUESTION\n",
        "# 1) Write a code to create a string with your name and print it?\n",
        "# Creating a string with my name\n",
        "my_name = \"Nithishkumarsingh R\"\n",
        "\n",
        "# Printing the name\n",
        "print(\"My name is:\", my_name)\n"
      ]
    },
    {
      "cell_type": "code",
      "source": [
        "# 2) Write a code to find the length of the string \"Hello World\"?\n",
        "my_string = \"Hello World\"\n",
        "\n",
        "# Find the length of the string\n",
        "length_of_string = len(my_string)\n",
        "\n",
        "# Print the length\n",
        "print(\"The length of the string 'Hello World' is:\", length_of_string)"
      ],
      "metadata": {
        "id": "uG66jOwZ36Ja"
      },
      "execution_count": null,
      "outputs": []
    },
    {
      "cell_type": "code",
      "source": [
        "# 3) Write a code to slice the first 3 characters from the string \"Python Programming\"?\n",
        "# sliced text for python progrmming\n",
        "text = \"Python Programming\"\n",
        "sliced_text = text[:3]\n",
        "print(sliced_text)"
      ],
      "metadata": {
        "id": "JO-AYD5V4tp_"
      },
      "execution_count": null,
      "outputs": []
    },
    {
      "cell_type": "code",
      "source": [
        "# 4) Write a code to convert the string \"hello\" to uppercase?\n",
        "# code for uppercase\n",
        "text = \"hello\"\n",
        "uppercase_text = text.upper()\n",
        "print(uppercase_text)"
      ],
      "metadata": {
        "id": "rRdJVMcr6n_6"
      },
      "execution_count": null,
      "outputs": []
    },
    {
      "cell_type": "code",
      "source": [
        "# 5) Write a code to replace the word \"apple\" with \"orange\" in the string \"I like apple\"?\n",
        "# text to replace word\n",
        "text = \"I like more apple\"\n",
        "new_text = text.replace(\"apple\", \"orange\")\n",
        "print(new_text)"
      ],
      "metadata": {
        "id": "J5pTN5_J7CcO"
      },
      "execution_count": null,
      "outputs": []
    },
    {
      "cell_type": "code",
      "source": [
        "# 6) Write a code to create a list with numbers 1 to 5 and print it?\n",
        "# code to list nummber 1 to 6\n",
        "numbers = list(range(1, 6))\n",
        "print(numbers)"
      ],
      "metadata": {
        "id": "gU21oATQ7hFg"
      },
      "execution_count": null,
      "outputs": []
    },
    {
      "cell_type": "code",
      "source": [
        "# 7) Write a code to append the number 10 to the list [1, 2, 3, 4]?\n",
        "# to append the number 10\n",
        "numbers = [1, 2, 3, 4]\n",
        "numbers.append(10)\n",
        "print(numbers)"
      ],
      "metadata": {
        "id": "UUKi2Hhe8Bxe"
      },
      "execution_count": null,
      "outputs": []
    },
    {
      "cell_type": "code",
      "source": [
        "# 8) Write a code to remove the number 3 from the list [1, 2, 3, 4, 5]?\n",
        "# code to remove number 3\n",
        "numbers = [1, 2, 3, 4, 5]\n",
        "numbers.remove(3)\n",
        "print(numbers)"
      ],
      "metadata": {
        "id": "9oka7biV8gRB"
      },
      "execution_count": null,
      "outputs": []
    },
    {
      "cell_type": "code",
      "source": [
        "# 9)Write a code to access the second element in the list ['a', 'b', 'c', 'd']?\n",
        "# print second element\n",
        "letters = ['a', 'b', 'c', 'd']\n",
        "second_element = letters[1]\n",
        "print(second_element)"
      ],
      "metadata": {
        "id": "cV-U2Xg988vW"
      },
      "execution_count": null,
      "outputs": []
    },
    {
      "cell_type": "code",
      "source": [
        "# 10) Write a code to reverse the list [10, 20, 30, 40, 50]?\n",
        "# print reverse number\n",
        "numbers = [10, 20, 30, 40, 50]\n",
        "numbers.reverse()\n",
        "print(numbers)"
      ],
      "metadata": {
        "id": "1ZLBX1WO-u-h"
      },
      "execution_count": null,
      "outputs": []
    },
    {
      "cell_type": "code",
      "source": [
        "# 11) Write a code to create a tuple with the elements 100, 200, 300 and print it?\n",
        "my_tuple = (100, 200, 300)\n",
        "print(my_tuple)"
      ],
      "metadata": {
        "id": "nUeV2S9h_ok8"
      },
      "execution_count": null,
      "outputs": []
    },
    {
      "cell_type": "code",
      "source": [
        "# 12) Write a code to access the second-to-last element of the tuple ('red', 'green', 'blue', 'yellow'?\n",
        "# code for access tuple from second to last\n",
        "colors = ('red', 'green', 'blue', 'yellow')\n",
        "second_to_last = colors[-2]\n",
        "print(second_to_last)\n"
      ],
      "metadata": {
        "id": "woGULweWAOLv"
      },
      "execution_count": null,
      "outputs": []
    },
    {
      "cell_type": "code",
      "source": [
        "# 13) Write a code to find the minimum number in the tuple (10, 20, 5, 15)?\n",
        "numbers = (10, 20, 5, 15)\n",
        "min_number = min(numbers)\n",
        "print(min_number)"
      ],
      "metadata": {
        "id": "Ns6VB1XMAm4-"
      },
      "execution_count": null,
      "outputs": []
    },
    {
      "cell_type": "code",
      "source": [
        "# 14) Write a code to find the index of the element \"cat\" in the tuple ('dog', 'cat', 'rabbit')?\n",
        "animals = ('dog', 'cat', 'rabbit')\n",
        "index_of_cat = animals.index('cat')\n",
        "print(index_of_cat)"
      ],
      "metadata": {
        "id": "mcj2qrXnA11H"
      },
      "execution_count": null,
      "outputs": []
    },
    {
      "cell_type": "code",
      "source": [
        "# 15)  Write a code to create a tuple containing three different fruits and check if \"kiwi\" is in it?\n",
        "# code to check different fruits and kiwi in it\n",
        "fruits = ('apple', 'banana', 'cherry')\n",
        "is_kiwi_in_tuple = 'kiwi' in fruits\n",
        "print(is_kiwi_in_tuple)"
      ],
      "metadata": {
        "id": "Jyd_fqX5BK17"
      },
      "execution_count": null,
      "outputs": []
    },
    {
      "cell_type": "code",
      "source": [
        "# 16)Write a code to create a set with the elements 'a', 'b', 'c' and print it?\n",
        "my_set = {'a', 'b', 'c'}\n",
        "print(my_set)"
      ],
      "metadata": {
        "id": "qzY7PAqIBwON"
      },
      "execution_count": null,
      "outputs": []
    },
    {
      "cell_type": "code",
      "source": [
        "# 17) Write a code to clear all elements from the set {1, 2, 3, 4, 5}?\n",
        "my_set = {1, 2, 3, 4, 5}\n",
        "my_set.clear()\n",
        "print(my_set)"
      ],
      "metadata": {
        "id": "aQWARvChCIX5"
      },
      "execution_count": null,
      "outputs": []
    },
    {
      "cell_type": "code",
      "source": [
        "# 18) Write a code to remove the element 4 from the set {1, 2, 3, 4}?\n",
        "my_set = {1, 2, 3, 4}\n",
        "my_set.remove(4)\n",
        "print(my_set)"
      ],
      "metadata": {
        "id": "V_M5gSeVCYrW"
      },
      "execution_count": null,
      "outputs": []
    },
    {
      "cell_type": "code",
      "source": [
        "# 19) Write a code to find the union of two sets {1, 2, 3} and {3, 4, 5}?\n",
        "set1 = {1, 2, 3}\n",
        "set2 = {3, 4, 5}\n",
        "union_set = set1.union(set2)\n",
        "print(union_set)"
      ],
      "metadata": {
        "id": "Wh_kzjHACljZ"
      },
      "execution_count": null,
      "outputs": []
    },
    {
      "cell_type": "code",
      "source": [
        "# 20) Write a code to find the intersection of two sets {1, 2, 3} and {2, 3, 4}?\n",
        "set1 = {1, 2, 3}\n",
        "set2 = {2, 3, 4}\n",
        "intersection_set = set1.intersection(set2)\n",
        "print(intersection_set)"
      ],
      "metadata": {
        "id": "wADe-viLCxxl"
      },
      "execution_count": null,
      "outputs": []
    },
    {
      "cell_type": "code",
      "source": [
        "# 21) Write a code to create a dictionary with the keys \"name\", \"age\", and \"city\", and print it?\n",
        "my_dict = {\n",
        "    \"name\": \"Alice\",\n",
        "    \"age\": 25,\n",
        "    \"city\": \"New York\"\n",
        "}\n",
        "print(my_dict)"
      ],
      "metadata": {
        "id": "EWfYH5nfC_vK"
      },
      "execution_count": null,
      "outputs": []
    },
    {
      "cell_type": "code",
      "source": [
        "# 22)Write a code to add a new key-value pair \"country\": \"USA\" to the dictionary {'name': 'John', 'age': 25}?\n",
        "my_dict = {'name': 'John', 'age': 25}\n",
        "my_dict['country'] = 'USA'\n",
        "print(my_dict)"
      ],
      "metadata": {
        "id": "heSi1AcXD9k-"
      },
      "execution_count": null,
      "outputs": []
    },
    {
      "cell_type": "code",
      "source": [
        "# 23) my_dict = {'name': 'Alice', 'age': 30}\n",
        "name_value = my_dict['name']\n",
        "print(name_value)"
      ],
      "metadata": {
        "id": "i_FPAybHEWhu"
      },
      "execution_count": null,
      "outputs": []
    },
    {
      "cell_type": "code",
      "source": [
        "# 24)my_dict = {'name': 'Bob', 'age': 22, 'city': 'New York'}\n",
        "del my_dict['age']\n",
        "print(my_dict)"
      ],
      "metadata": {
        "id": "F6b9jCByFZAj"
      },
      "execution_count": null,
      "outputs": []
    },
    {
      "cell_type": "code",
      "source": [
        "#25)Write a code to check if the key \"city\" exists in the dictionary {'name': 'Alice', 'city': 'Paris'}?\n",
        "my_dict = {'name': 'Alice', 'city': 'Paris'}\n",
        "key_exists = 'city' in my_dict\n",
        "print(key_exists)"
      ],
      "metadata": {
        "id": "t0pTI2gAFoJZ"
      },
      "execution_count": null,
      "outputs": []
    },
    {
      "cell_type": "code",
      "source": [
        "# 26)Write a code to create a list, a tuple, and a dictionary, and print them all?\n",
        "# Creating a list\n",
        "my_list = [1, 2, 3, 4, 5]\n",
        "\n",
        "# Creating a tuple\n",
        "my_tuple = ('apple', 'banana', 'cherry')\n",
        "\n",
        "# Creating a dictionary\n",
        "my_dict = {'name': 'John', 'age': 30, 'city': 'New York'}\n",
        "\n",
        "# Printing the list, tuple, and dictionary\n",
        "print(\"List:\", my_list)\n",
        "print(\"Tuple:\", my_tuple)\n",
        "print(\"Dictionary:\", my_dict)"
      ],
      "metadata": {
        "id": "T52TNQ0sF6iZ"
      },
      "execution_count": null,
      "outputs": []
    },
    {
      "cell_type": "code",
      "source": [
        "# 27) Write a code to create a list of 5 random numbers between 1 and 100, sort it in ascending order, and print the result.(replaced)\n",
        "import random\n",
        "\n",
        "# Generate a list of 5 random numbers between 1 and 100\n",
        "random_numbers = [random.randint(1, 100) for _ in range(5)]\n",
        "\n",
        "# Sort the list in ascending order\n",
        "random_numbers.sort()\n",
        "\n",
        "# Print the result\n",
        "print(random_numbers)"
      ],
      "metadata": {
        "id": "WpsEmkxQGURE"
      },
      "execution_count": null,
      "outputs": []
    },
    {
      "cell_type": "code",
      "source": [
        "# 28)Write a code to create a list with strings and print the element at the third index?\n",
        "# Create a list with strings\n",
        "string_list = [\"apple\", \"banana\", \"cherry\", \"date\", \"elderberry\"]\n",
        "\n",
        "# Print the element at the third index (4th element)\n",
        "print(string_list[3])"
      ],
      "metadata": {
        "id": "faZz1XWXHDb_"
      },
      "execution_count": null,
      "outputs": []
    },
    {
      "cell_type": "code",
      "source": [
        "# 29) Write a code to combine two dictionaries into one and print the result?\n",
        "# Define two dictionaries\n",
        "dict1 = {\"a\": 1, \"b\": 2, \"c\": 3}\n",
        "dict2 = {\"d\": 4, \"e\": 5, \"f\": 6}\n",
        "\n",
        "# Combine the two dictionaries\n",
        "combined_dict = {**dict1, **dict2}\n",
        "\n",
        "# Print the result\n",
        "print(combined_dict)"
      ],
      "metadata": {
        "id": "bcR8eyOeHdYH"
      },
      "execution_count": null,
      "outputs": []
    },
    {
      "cell_type": "code",
      "source": [
        "# 30)Write a code to convert a list of strings into a set?\n",
        "# Define a list of strings\n",
        "string_list = [\"apple\", \"banana\", \"cherry\", \"apple\", \"date\"]\n",
        "\n",
        "# Convert the list into a set (duplicates will be removed)\n",
        "string_set = set(string_list)\n",
        "\n",
        "# Print the result\n",
        "print(string_set)"
      ],
      "metadata": {
        "id": "0FEQwnUnHveT"
      },
      "execution_count": null,
      "outputs": []
    }
  ]
}